{
  "nbformat": 4,
  "nbformat_minor": 0,
  "metadata": {
    "colab": {
      "provenance": [],
      "authorship_tag": "ABX9TyOcCRwjXlqtV3xkeT8vYeR+",
      "include_colab_link": true
    },
    "kernelspec": {
      "name": "python3",
      "display_name": "Python 3"
    },
    "language_info": {
      "name": "python"
    }
  },
  "cells": [
    {
      "cell_type": "markdown",
      "metadata": {
        "id": "view-in-github",
        "colab_type": "text"
      },
      "source": [
        "<a href=\"https://colab.research.google.com/github/Razi-Moosa/Info_Sec_Parser/blob/main/IS_Data_Parser.ipynb\" target=\"_parent\"><img src=\"https://colab.research.google.com/assets/colab-badge.svg\" alt=\"Open In Colab\"/></a>"
      ]
    },
    {
      "cell_type": "code",
      "source": [
        "!pip install GeoText"
      ],
      "metadata": {
        "colab": {
          "base_uri": "https://localhost:8080/"
        },
        "id": "cFMM6VzoTWNd",
        "outputId": "48c48a6e-0ea4-4e0c-bac7-f9e2643dcc9f"
      },
      "execution_count": 65,
      "outputs": [
        {
          "output_type": "stream",
          "name": "stdout",
          "text": [
            "Looking in indexes: https://pypi.org/simple, https://us-python.pkg.dev/colab-wheels/public/simple/\n",
            "Requirement already satisfied: GeoText in /usr/local/lib/python3.10/dist-packages (0.4.0)\n"
          ]
        }
      ]
    },
    {
      "cell_type": "code",
      "execution_count": 66,
      "metadata": {
        "id": "hkc8vt16Hhlh"
      },
      "outputs": [],
      "source": [
        "import re\n",
        "from geotext import GeoText\n",
        "import pandas as pd"
      ]
    },
    {
      "cell_type": "code",
      "source": [
        "# regex patterns\n",
        "date_pattern = r'(\\w+ \\d{4})\\.'  # matches the date pattern e.g. \"March 2023.\"\n",
        "incident_pattern = r'(?<=\\. )[^\\n]+'  # matches the incident description after the date\n",
        "ddos_pattern = r'\\b(ddos|DDoS|distributed denial of service)\\b'  # matches keywords related to DDoS attacks\n",
        "malware_pattern = r'\\b(malware|trojan|virus)\\b'  # matches keywords related to malware infections\n",
        "phishing_pattern = r'\\b(phishing|spear-phishing)\\b'  # matches keywords related to phishing attacks\n",
        "exploit_pattern = r'\\b(exploit|vulnerability)\\b'  # matches keywords related to exploits/vulnerabilities\n",
        "#country_pattern = r'\\b(?:Afghanistan|Albania|Algeria|Andorra|Angola|Antigua and Barbuda|Argentina|Armenia|Australia|Austria|Azerbaijan|Bahamas|Bahrain|Bangladesh|Barbados|Belarus|Belgium|Belize|Benin|Bhutan|Bolivia|Bosnia and Herzegovina|Botswana|Brazil|Brunei|Bulgaria|Burkina Faso|Burundi|Cabo Verde|Cambodia|Cameroon|Canada|Central African Republic (CAR)|Chad|Chile|China|Colombia|Comoros|Congo, Democratic Republic of the|Congo, Republic of the|Costa Rica|Cote dIvoire|Croatia|Cuba|Cyprus|Czechia|Denmark|Djibouti|Dominica|Dominican Republic|Ecuador|Egypt|El Salvador|Equatorial Guinea|Eritrea|Estonia|Eswatini (formerly Swaziland)|Ethiopia|Fiji|Finland|France|Gabon|Gambia|Georgia|Germany|Ghana|Greece|Grenada|Guatemala|Guinea|Guinea-Bissau|Guyana|Haiti|Honduras|Hungary|Iceland|India|Indonesia|Iran|Iraq|Ireland|Israel|Italy|Jamaica|Japan|Jordan|Kazakhstan|Kenya|Kiribati|Kosovo|Kuwait|Kyrgyzstan|Laos|Latvia|Lebanon|Lesotho|Liberia|Libya|Liechtenstein|Lithuania|Luxembourg|Madagascar|Malawi|Malaysia|Maldives|Mali|Malta|Marshall Islands|Mauritania|Mauritius|Mexico|Micronesia|Moldova|Monaco|Mongolia|Montenegro|Morocco|Mozambique|Myanmar (formerly Burma)|Namibia|Nauru|Nepal|Netherlands|New Zealand|Nicaragua|Niger|Nigeria|North Korea|North Macedonia (formerly Macedonia)|Norway|Oman|Pakistan|Palau|Palestine|Panama|Papua New Guinea|Paraguay|Peru|Philippines|Poland|Portugal|Qatar|Romania|Russia|Rwanda|Saint Kitts and Nevis|Saint Lucia|Saint Vincent and the Grenadines|Samoa|San Marino|Sao Tome and Principe|Saudi Arabia|Senegal|Serbia|Seychelles|Sierra Leone|Singapore|Slovakia|Slovenia|Solomon Islands|Somalia|South Africa|South Korea|South Sudan|Spain|Sri Lanka|Sudan|Suriname|Sweden|Switzerland|Syria|Taiwan|Tajikistan|Tanzania|Thailand|Timor-Leste|Togo|Tonga|Trinidad and Tobago|Tunisia|Turkey|Turkmenistan|Tuvalu|Uganda|Ukraine|United Arab Emirates (UAE)|United Kingdom (UK)|United States of America (USA)|Uruguay|Uzbekistan|Vanuatu|Vatican City (Holy See)|Venezuela|Vietnam|Yemen|Zambia|Zimbabwe)\\b'\n",
        "\n",
        "\n",
        "# input text\n",
        "text = '''January 2023. United States website was targeted by a DDoS attack which took the site offline for several hours.\n",
        "February 2023. One of United Kingdom our employees fell victim to a phishing attack and inadvertently gave away their login credentials.\n",
        "March 2023. We discovered that a Pakistan malware infection had occurred on several of our machines, which we promptly cleaned up.\n",
        "April 2023. Our India server was hacked due to an exploit in the outdated software we were using.\n",
        "'''\n",
        "\n",
        "# list to store extracted incidents\n",
        "incidents = []\n",
        "\n",
        "# split the input text by newline characters to extract each incident separately\n",
        "for incident_text in text.split('\\n'):\n",
        "    # extract the date\n",
        "    date = re.search(date_pattern, incident_text)\n",
        "    if date:\n",
        "        date = date.group(1)\n",
        "    else:\n",
        "        continue\n",
        "    \n",
        "    # extract the incident and tokenize it\n",
        "    incident = re.search(incident_pattern, incident_text)\n",
        "    if incident:\n",
        "        incident = incident.group(0)\n",
        "        incident_tokens = incident.split()\n",
        "    else:\n",
        "        continue\n",
        "    \n",
        "    # join the incident tokens to form the incident name\n",
        "    incident_name = ' '.join(incident_tokens)\n",
        "    \n",
        "    # simplify the incident\n",
        "    simplified_incident = ''\n",
        "    if re.search(ddos_pattern, incident_name):\n",
        "        simplified_incident = 'DDoS Attack'\n",
        "    elif re.search(phishing_pattern, incident_name):\n",
        "        simplified_incident = 'Phishing'\n",
        "    elif re.search(malware_pattern, incident_name):\n",
        "        simplified_incident = 'Malware Infection'\n",
        "    elif re.search(exploit_pattern, incident_name):\n",
        "        simplified_incident = 'Exploit/Vulnerability'\n",
        "    else: \n",
        "        simplified_incident = incident_name\n",
        "\n",
        "    # check if the incident contains a country name\n",
        "    # extract the countries mentioned in the incident text\n",
        "    countries = GeoText(incident).countries\n",
        "    country = ', '.join(list(countries))\n",
        "\n",
        "        \n",
        "    # append the extracted information to the list\n",
        "    incidents.append({\n",
        "    'date': date,\n",
        "    'incident': incident_name,\n",
        "    'simplified_incident': simplified_incident,\n",
        "    'country': country\n",
        "    })\n",
        "\n",
        "# create a dataframe from the list of incidents\n",
        "df = pd.DataFrame(incidents, columns=['date', 'incident', 'simplified_incident','country'])\n",
        "\n",
        "# print the dataframe\n",
        "print(df)"
      ],
      "metadata": {
        "colab": {
          "base_uri": "https://localhost:8080/"
        },
        "id": "WqKZ_NMaPESu",
        "outputId": "0eff25c7-6d0a-4690-b8b2-9af054369146"
      },
      "execution_count": 69,
      "outputs": [
        {
          "output_type": "stream",
          "name": "stdout",
          "text": [
            "            date                                           incident  \\\n",
            "0   January 2023  United States website was targeted by a DDoS a...   \n",
            "1  February 2023  One of United Kingdom our employees fell victi...   \n",
            "2     March 2023  We discovered that a Pakistan malware infectio...   \n",
            "3     April 2023  Our India server was hacked due to an exploit ...   \n",
            "\n",
            "     simplified_incident         country  \n",
            "0            DDoS Attack   United States  \n",
            "1               Phishing  United Kingdom  \n",
            "2      Malware Infection        Pakistan  \n",
            "3  Exploit/Vulnerability                  \n"
          ]
        }
      ]
    },
    {
      "cell_type": "code",
      "source": [],
      "metadata": {
        "id": "bwRJV3LYdFBn"
      },
      "execution_count": null,
      "outputs": []
    }
  ]
}